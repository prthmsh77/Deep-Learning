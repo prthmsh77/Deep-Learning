{
  "nbformat": 4,
  "nbformat_minor": 0,
  "metadata": {
    "colab": {
      "provenance": [],
      "toc_visible": true
    },
    "kernelspec": {
      "name": "python3",
      "display_name": "Python 3"
    },
    "language_info": {
      "name": "python"
    }
  },
  "cells": [
    {
      "cell_type": "code",
      "execution_count": 20,
      "metadata": {
        "colab": {
          "base_uri": "https://localhost:8080/"
        },
        "id": "9KgD300tkh-X",
        "outputId": "26a2db55-d0fb-45a0-f975-bafb1d4fca3e"
      },
      "outputs": [
        {
          "output_type": "stream",
          "name": "stdout",
          "text": [
            "[1 2 3 4 5]\n",
            "[0.         0.69314718 1.09861229 1.38629436 1.60943791]\n",
            "[  2.71828183   7.3890561   20.08553692  54.59815003 148.4131591 ]\n"
          ]
        }
      ],
      "source": [
        "import numpy as np\n",
        "a = np.array([1,2,3,4,5])\n",
        "print(a)\n",
        "print(np.log(a))\n",
        "print(np.exp(a)) #exponential"
      ]
    },
    {
      "cell_type": "code",
      "source": [
        "import time\n",
        "a = np.random.rand(1000000)\n",
        "b = np.random.rand(1000000)\n",
        "tic = time.time()\n",
        "c = np.dot(a,b)\n",
        "toc = time.time()\n",
        "\n",
        "print(c)\n",
        "print(str((toc - tic)*1000)+\"ms\")   # ms required for dot product\n",
        "\n",
        "\n",
        "c=0\n",
        "tic = time.time()\n",
        "for i in range(1000000):\n",
        "  c+=a[i]*b[i]\n",
        "toc = time.time()\n",
        "\n",
        "print(c)\n",
        "print(str((toc - tic)*1000)+\"ms\") # time required for for loop\n"
      ],
      "metadata": {
        "colab": {
          "base_uri": "https://localhost:8080/"
        },
        "id": "NeO-YiAC4uDx",
        "outputId": "75715afb-f4b6-4c0d-e74e-de555a5bbc59"
      },
      "execution_count": 19,
      "outputs": [
        {
          "output_type": "stream",
          "name": "stdout",
          "text": [
            "249787.8065719943\n",
            "1.603841781616211ms\n",
            "249787.80657199395\n",
            "476.7615795135498ms\n"
          ]
        }
      ]
    },
    {
      "cell_type": "markdown",
      "source": [
        "vectorization is faster than loops"
      ],
      "metadata": {
        "id": "VwWTlWOJFHbQ"
      }
    },
    {
      "cell_type": "code",
      "source": [],
      "metadata": {
        "id": "7BN1g3zhDPdA"
      },
      "execution_count": 16,
      "outputs": []
    }
  ]
}